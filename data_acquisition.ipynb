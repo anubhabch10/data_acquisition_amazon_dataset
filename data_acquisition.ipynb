{
 "cells": [
  {
   "cell_type": "markdown",
   "metadata": {},
   "source": [
    "#Subject: Data Science with Python #Name: Anubhab Chaudhuri #Sec: B #Roll: 108\n",
    "\n",
    "Data acquisition with real life case study\n",
    "\n",
    "Problem Statement: Extract Amazon data set (preferably from your own Amazon account). Perform data pre-processing, encoding, and feature scaling on the data set using Python. Statistical properties of the data set must be considered and evaluated. Write a project where the following must be defined (Follow the video tutorial):\n",
    "\n",
    "Data Science concept and general working methodology. Need of Data Data acquisition considerations Challenges faced during data acquisition\n",
    "Data Extraction Methodology.\n",
    "Data Statistics.\n",
    "Data Pre-processing techniques applied.\n",
    "Encoding and Feature Scaling techniques used.\n",
    "Concept of data type casting and outliers."
   ]
  },
  {
   "cell_type": "code",
   "execution_count": 217,
   "metadata": {
    "colab": {
     "base_uri": "https://localhost:8080/"
    },
    "id": "B8cXeOeUmHRo",
    "outputId": "c5e0d37c-edad-4bac-d9c7-56fbf47ee9ef"
   },
   "outputs": [
    {
     "data": {
      "text/html": [
       "<div>\n",
       "<style scoped>\n",
       "    .dataframe tbody tr th:only-of-type {\n",
       "        vertical-align: middle;\n",
       "    }\n",
       "\n",
       "    .dataframe tbody tr th {\n",
       "        vertical-align: top;\n",
       "    }\n",
       "\n",
       "    .dataframe thead th {\n",
       "        text-align: right;\n",
       "    }\n",
       "</style>\n",
       "<table border=\"1\" class=\"dataframe\">\n",
       "  <thead>\n",
       "    <tr style=\"text-align: right;\">\n",
       "      <th></th>\n",
       "      <th>order id</th>\n",
       "      <th>items</th>\n",
       "      <th>to</th>\n",
       "      <th>date</th>\n",
       "      <th>total</th>\n",
       "      <th>shipping</th>\n",
       "      <th>shipping_refund</th>\n",
       "      <th>gift</th>\n",
       "      <th>VAT</th>\n",
       "      <th>refund</th>\n",
       "      <th>payments</th>\n",
       "    </tr>\n",
       "  </thead>\n",
       "  <tbody>\n",
       "    <tr>\n",
       "      <th>0</th>\n",
       "      <td>404-9607175-0534741</td>\n",
       "      <td>Seagate Expansion 1TB External HDD - 6.35 cm (...</td>\n",
       "      <td>Anubhab Chaudhuri</td>\n",
       "      <td>2022-09-09</td>\n",
       "      <td>Rs.4,099.00</td>\n",
       "      <td>Rs. 40.00</td>\n",
       "      <td>0</td>\n",
       "      <td>0</td>\n",
       "      <td>0</td>\n",
       "      <td>0</td>\n",
       "      <td>UNKNOWN;</td>\n",
       "    </tr>\n",
       "    <tr>\n",
       "      <th>1</th>\n",
       "      <td>404-7642633-6972349</td>\n",
       "      <td>Vrnda Women's Printed Cotton Night Suit Set/Sl...</td>\n",
       "      <td>Anubhab Chaudhuri</td>\n",
       "      <td>2022-05-14</td>\n",
       "      <td>Rs.597.00</td>\n",
       "      <td>Rs. 40.00</td>\n",
       "      <td>0</td>\n",
       "      <td>0</td>\n",
       "      <td>0</td>\n",
       "      <td>0</td>\n",
       "      <td>UNKNOWN;</td>\n",
       "    </tr>\n",
       "    <tr>\n",
       "      <th>2</th>\n",
       "      <td>404-8392830-0735545</td>\n",
       "      <td>boAt Airdopes 141 True Wireless Earbuds with 4...</td>\n",
       "      <td>Anubhab Chaudhuri</td>\n",
       "      <td>2022-03-17</td>\n",
       "      <td>Rs.1,399.00</td>\n",
       "      <td>Rs. 40.00</td>\n",
       "      <td>0</td>\n",
       "      <td>0</td>\n",
       "      <td>0</td>\n",
       "      <td>0</td>\n",
       "      <td>UNKNOWN;</td>\n",
       "    </tr>\n",
       "    <tr>\n",
       "      <th>3</th>\n",
       "      <td>=SUBTOTAL(103, A2:A4) &amp; \" items\"</td>\n",
       "      <td>NaN</td>\n",
       "      <td>NaN</td>\n",
       "      <td>NaN</td>\n",
       "      <td>=SUBTOTAL(109,E2:E4)</td>\n",
       "      <td>=SUBTOTAL(109,F2:F4)</td>\n",
       "      <td>=SUBTOTAL(109,G2:G4)</td>\n",
       "      <td>=SUBTOTAL(109,H2:H4)</td>\n",
       "      <td>=SUBTOTAL(109,I2:I4)</td>\n",
       "      <td>=SUBTOTAL(109,J2:J4)</td>\n",
       "      <td>NaN</td>\n",
       "    </tr>\n",
       "  </tbody>\n",
       "</table>\n",
       "</div>"
      ],
      "text/plain": [
       "                           order id  \\\n",
       "0               404-9607175-0534741   \n",
       "1               404-7642633-6972349   \n",
       "2               404-8392830-0735545   \n",
       "3  =SUBTOTAL(103, A2:A4) & \" items\"   \n",
       "\n",
       "                                               items                 to  \\\n",
       "0  Seagate Expansion 1TB External HDD - 6.35 cm (...  Anubhab Chaudhuri   \n",
       "1  Vrnda Women's Printed Cotton Night Suit Set/Sl...  Anubhab Chaudhuri   \n",
       "2  boAt Airdopes 141 True Wireless Earbuds with 4...  Anubhab Chaudhuri   \n",
       "3                                                NaN                NaN   \n",
       "\n",
       "         date                 total              shipping  \\\n",
       "0  2022-09-09           Rs.4,099.00             Rs. 40.00   \n",
       "1  2022-05-14             Rs.597.00             Rs. 40.00   \n",
       "2  2022-03-17           Rs.1,399.00             Rs. 40.00   \n",
       "3         NaN  =SUBTOTAL(109,E2:E4)  =SUBTOTAL(109,F2:F4)   \n",
       "\n",
       "        shipping_refund                  gift                   VAT  \\\n",
       "0                     0                     0                     0   \n",
       "1                     0                     0                     0   \n",
       "2                     0                     0                     0   \n",
       "3  =SUBTOTAL(109,G2:G4)  =SUBTOTAL(109,H2:H4)  =SUBTOTAL(109,I2:I4)   \n",
       "\n",
       "                 refund   payments  \n",
       "0                     0  UNKNOWN;   \n",
       "1                     0  UNKNOWN;   \n",
       "2                     0  UNKNOWN;   \n",
       "3  =SUBTOTAL(109,J2:J4)        NaN  "
      ]
     },
     "execution_count": 217,
     "metadata": {},
     "output_type": "execute_result"
    }
   ],
   "source": [
    "import pandas as pd\n",
    "import numpy as np\n",
    "import matplotlib.pyplot as plt\n",
    "from sklearn.preprocessing import StandardScaler\n",
    "s=pd.read_csv(r\"C:\\Users\\Anubhab\\amazon_order_history.csv\")\n",
    "s"
   ]
  },
  {
   "cell_type": "code",
   "execution_count": 218,
   "metadata": {
    "colab": {
     "base_uri": "https://localhost:8080/",
     "height": 612
    },
    "id": "3VZ59fTDnWHN",
    "outputId": "c2c597d1-22d2-40ac-d84b-025d7311124a"
   },
   "outputs": [
    {
     "data": {
      "text/html": [
       "<div>\n",
       "<style scoped>\n",
       "    .dataframe tbody tr th:only-of-type {\n",
       "        vertical-align: middle;\n",
       "    }\n",
       "\n",
       "    .dataframe tbody tr th {\n",
       "        vertical-align: top;\n",
       "    }\n",
       "\n",
       "    .dataframe thead th {\n",
       "        text-align: right;\n",
       "    }\n",
       "</style>\n",
       "<table border=\"1\" class=\"dataframe\">\n",
       "  <thead>\n",
       "    <tr style=\"text-align: right;\">\n",
       "      <th></th>\n",
       "      <th>order id</th>\n",
       "      <th>items</th>\n",
       "      <th>to</th>\n",
       "      <th>date</th>\n",
       "      <th>total</th>\n",
       "      <th>shipping</th>\n",
       "      <th>shipping_refund</th>\n",
       "      <th>gift</th>\n",
       "      <th>VAT</th>\n",
       "      <th>refund</th>\n",
       "      <th>payments</th>\n",
       "    </tr>\n",
       "  </thead>\n",
       "  <tbody>\n",
       "    <tr>\n",
       "      <th>0</th>\n",
       "      <td>404-9607175-0534741</td>\n",
       "      <td>Seagate Expansion 1TB External HDD - 6.35 cm (...</td>\n",
       "      <td>Anubhab Chaudhuri</td>\n",
       "      <td>2022-09-09</td>\n",
       "      <td>Rs.4,099.00</td>\n",
       "      <td>Rs. 40.00</td>\n",
       "      <td>0</td>\n",
       "      <td>0</td>\n",
       "      <td>0</td>\n",
       "      <td>0</td>\n",
       "      <td>UNKNOWN;</td>\n",
       "    </tr>\n",
       "    <tr>\n",
       "      <th>1</th>\n",
       "      <td>404-7642633-6972349</td>\n",
       "      <td>Vrnda Women's Printed Cotton Night Suit Set/Sl...</td>\n",
       "      <td>Anubhab Chaudhuri</td>\n",
       "      <td>2022-05-14</td>\n",
       "      <td>Rs.597.00</td>\n",
       "      <td>Rs. 40.00</td>\n",
       "      <td>0</td>\n",
       "      <td>0</td>\n",
       "      <td>0</td>\n",
       "      <td>0</td>\n",
       "      <td>UNKNOWN;</td>\n",
       "    </tr>\n",
       "    <tr>\n",
       "      <th>2</th>\n",
       "      <td>404-8392830-0735545</td>\n",
       "      <td>boAt Airdopes 141 True Wireless Earbuds with 4...</td>\n",
       "      <td>Anubhab Chaudhuri</td>\n",
       "      <td>2022-03-17</td>\n",
       "      <td>Rs.1,399.00</td>\n",
       "      <td>Rs. 40.00</td>\n",
       "      <td>0</td>\n",
       "      <td>0</td>\n",
       "      <td>0</td>\n",
       "      <td>0</td>\n",
       "      <td>UNKNOWN;</td>\n",
       "    </tr>\n",
       "    <tr>\n",
       "      <th>3</th>\n",
       "      <td>=SUBTOTAL(103, A2:A4) &amp; \" items\"</td>\n",
       "      <td>NaN</td>\n",
       "      <td>NaN</td>\n",
       "      <td>NaN</td>\n",
       "      <td>=SUBTOTAL(109,E2:E4)</td>\n",
       "      <td>=SUBTOTAL(109,F2:F4)</td>\n",
       "      <td>=SUBTOTAL(109,G2:G4)</td>\n",
       "      <td>=SUBTOTAL(109,H2:H4)</td>\n",
       "      <td>=SUBTOTAL(109,I2:I4)</td>\n",
       "      <td>=SUBTOTAL(109,J2:J4)</td>\n",
       "      <td>NaN</td>\n",
       "    </tr>\n",
       "  </tbody>\n",
       "</table>\n",
       "</div>"
      ],
      "text/plain": [
       "                           order id  \\\n",
       "0               404-9607175-0534741   \n",
       "1               404-7642633-6972349   \n",
       "2               404-8392830-0735545   \n",
       "3  =SUBTOTAL(103, A2:A4) & \" items\"   \n",
       "\n",
       "                                               items                 to  \\\n",
       "0  Seagate Expansion 1TB External HDD - 6.35 cm (...  Anubhab Chaudhuri   \n",
       "1  Vrnda Women's Printed Cotton Night Suit Set/Sl...  Anubhab Chaudhuri   \n",
       "2  boAt Airdopes 141 True Wireless Earbuds with 4...  Anubhab Chaudhuri   \n",
       "3                                                NaN                NaN   \n",
       "\n",
       "         date                 total              shipping  \\\n",
       "0  2022-09-09           Rs.4,099.00             Rs. 40.00   \n",
       "1  2022-05-14             Rs.597.00             Rs. 40.00   \n",
       "2  2022-03-17           Rs.1,399.00             Rs. 40.00   \n",
       "3         NaN  =SUBTOTAL(109,E2:E4)  =SUBTOTAL(109,F2:F4)   \n",
       "\n",
       "        shipping_refund                  gift                   VAT  \\\n",
       "0                     0                     0                     0   \n",
       "1                     0                     0                     0   \n",
       "2                     0                     0                     0   \n",
       "3  =SUBTOTAL(109,G2:G4)  =SUBTOTAL(109,H2:H4)  =SUBTOTAL(109,I2:I4)   \n",
       "\n",
       "                 refund   payments  \n",
       "0                     0  UNKNOWN;   \n",
       "1                     0  UNKNOWN;   \n",
       "2                     0  UNKNOWN;   \n",
       "3  =SUBTOTAL(109,J2:J4)        NaN  "
      ]
     },
     "execution_count": 218,
     "metadata": {},
     "output_type": "execute_result"
    }
   ],
   "source": [
    "s"
   ]
  },
  {
   "cell_type": "code",
   "execution_count": 219,
   "metadata": {
    "colab": {
     "base_uri": "https://localhost:8080/"
    },
    "id": "mPBLgwcIncby",
    "outputId": "d73f251f-f22c-4053-b904-2aff230773dd"
   },
   "outputs": [
    {
     "data": {
      "text/plain": [
       "(4, 11)"
      ]
     },
     "execution_count": 219,
     "metadata": {},
     "output_type": "execute_result"
    }
   ],
   "source": [
    "s.shape"
   ]
  },
  {
   "cell_type": "markdown",
   "metadata": {
    "id": "q8YijEhfnjzX"
   },
   "source": [
    "Number of rows"
   ]
  },
  {
   "cell_type": "code",
   "execution_count": 220,
   "metadata": {
    "colab": {
     "base_uri": "https://localhost:8080/"
    },
    "id": "h2IK_L-jnmPU",
    "outputId": "a7ab9850-1c6b-4faa-c9f4-48808b404442"
   },
   "outputs": [
    {
     "data": {
      "text/plain": [
       "4"
      ]
     },
     "execution_count": 220,
     "metadata": {},
     "output_type": "execute_result"
    }
   ],
   "source": [
    "len(s)"
   ]
  },
  {
   "cell_type": "markdown",
   "metadata": {
    "id": "H0mSDdJ0o0PH"
   },
   "source": [
    "column names"
   ]
  },
  {
   "cell_type": "code",
   "execution_count": 221,
   "metadata": {
    "colab": {
     "base_uri": "https://localhost:8080/"
    },
    "id": "3A2jHJ26o2v7",
    "outputId": "28792305-ecc9-4948-eda6-689094f44422"
   },
   "outputs": [
    {
     "data": {
      "text/plain": [
       "Index(['order id', 'items', 'to', 'date', 'total', 'shipping',\n",
       "       'shipping_refund', 'gift', 'VAT', 'refund', 'payments'],\n",
       "      dtype='object')"
      ]
     },
     "execution_count": 221,
     "metadata": {},
     "output_type": "execute_result"
    }
   ],
   "source": [
    "s.columns"
   ]
  },
  {
   "cell_type": "code",
   "execution_count": 222,
   "metadata": {
    "id": "J_BJFbBXoz72"
   },
   "outputs": [],
   "source": [
    "s.columns=['order id', 'items', 'to', 'date', 'AmountPaid', 'shipping',\n",
    "       'shipping_refund', 'gift', 'VAT', 'refund', 'payments']"
   ]
  },
  {
   "cell_type": "code",
   "execution_count": 223,
   "metadata": {},
   "outputs": [
    {
     "data": {
      "text/plain": [
       "Index(['OrderId', 'PurchasedItems', 'CustomerName', 'OrderDate', 'AmountPaid',\n",
       "       'ShippingCharges', 'ShippingChargesRefund', 'Gift', 'VAT',\n",
       "       'RefundAmount', 'PaymentMethod'],\n",
       "      dtype='object')"
      ]
     },
     "execution_count": 223,
     "metadata": {},
     "output_type": "execute_result"
    }
   ],
   "source": [
    "s.columns = ['OrderId', 'PurchasedItems', 'CustomerName', 'OrderDate', 'AmountPaid', 'ShippingCharges',\n",
    "       'ShippingChargesRefund', 'Gift', 'VAT', 'RefundAmount', 'PaymentMethod']\n",
    "s.columns "
   ]
  },
  {
   "cell_type": "code",
   "execution_count": 224,
   "metadata": {},
   "outputs": [
    {
     "data": {
      "text/plain": [
       "array(['UNKNOWN; ', nan], dtype=object)"
      ]
     },
     "execution_count": 224,
     "metadata": {},
     "output_type": "execute_result"
    }
   ],
   "source": [
    "s['PurchasedItems'].unique()\n",
    "s['CustomerName'].unique()\n",
    "s['PaymentMethod'].unique()"
   ]
  },
  {
   "cell_type": "code",
   "execution_count": 225,
   "metadata": {},
   "outputs": [
    {
     "data": {
      "text/plain": [
       "array([0, 1])"
      ]
     },
     "execution_count": 225,
     "metadata": {},
     "output_type": "execute_result"
    }
   ],
   "source": [
    "from sklearn import preprocessing\n",
    "  \n",
    "# label_encoder object knows how to understand word labels.\n",
    "label_encoder = preprocessing.LabelEncoder()\n",
    "  \n",
    "# Encode labels in column 'PurchasedItems','CustomerName' and 'PaymentMethod'.\n",
    "s['PurchasedItems']= label_encoder.fit_transform(s['PurchasedItems'])\n",
    "s['CustomerName']= label_encoder.fit_transform(s['CustomerName'])\n",
    "s['PaymentMethod']= label_encoder.fit_transform(s['PaymentMethod'])\n",
    "  \n",
    "s['PurchasedItems'].unique()\n",
    "s['CustomerName'].unique()\n",
    "s['PaymentMethod'].unique()"
   ]
  },
  {
   "cell_type": "code",
   "execution_count": 226,
   "metadata": {
    "colab": {
     "base_uri": "https://localhost:8080/",
     "height": 612
    },
    "id": "L2hbaiZ-pVIy",
    "outputId": "36c02ed4-970e-4834-82ac-c1fd952f0bdd"
   },
   "outputs": [
    {
     "data": {
      "text/html": [
       "<div>\n",
       "<style scoped>\n",
       "    .dataframe tbody tr th:only-of-type {\n",
       "        vertical-align: middle;\n",
       "    }\n",
       "\n",
       "    .dataframe tbody tr th {\n",
       "        vertical-align: top;\n",
       "    }\n",
       "\n",
       "    .dataframe thead th {\n",
       "        text-align: right;\n",
       "    }\n",
       "</style>\n",
       "<table border=\"1\" class=\"dataframe\">\n",
       "  <thead>\n",
       "    <tr style=\"text-align: right;\">\n",
       "      <th></th>\n",
       "      <th>OrderId</th>\n",
       "      <th>PurchasedItems</th>\n",
       "      <th>CustomerName</th>\n",
       "      <th>OrderDate</th>\n",
       "      <th>AmountPaid</th>\n",
       "      <th>ShippingCharges</th>\n",
       "      <th>ShippingChargesRefund</th>\n",
       "      <th>VAT</th>\n",
       "      <th>RefundAmount</th>\n",
       "      <th>PaymentMethod</th>\n",
       "    </tr>\n",
       "  </thead>\n",
       "  <tbody>\n",
       "    <tr>\n",
       "      <th>0</th>\n",
       "      <td>404-9607175-0534741</td>\n",
       "      <td>0</td>\n",
       "      <td>0</td>\n",
       "      <td>2022-09-09</td>\n",
       "      <td>Rs.4,099.00</td>\n",
       "      <td>Rs. 40.00</td>\n",
       "      <td>0</td>\n",
       "      <td>0</td>\n",
       "      <td>0</td>\n",
       "      <td>0</td>\n",
       "    </tr>\n",
       "    <tr>\n",
       "      <th>1</th>\n",
       "      <td>404-7642633-6972349</td>\n",
       "      <td>1</td>\n",
       "      <td>0</td>\n",
       "      <td>2022-05-14</td>\n",
       "      <td>Rs.597.00</td>\n",
       "      <td>Rs. 40.00</td>\n",
       "      <td>0</td>\n",
       "      <td>0</td>\n",
       "      <td>0</td>\n",
       "      <td>0</td>\n",
       "    </tr>\n",
       "    <tr>\n",
       "      <th>2</th>\n",
       "      <td>404-8392830-0735545</td>\n",
       "      <td>2</td>\n",
       "      <td>0</td>\n",
       "      <td>2022-03-17</td>\n",
       "      <td>Rs.1,399.00</td>\n",
       "      <td>Rs. 40.00</td>\n",
       "      <td>0</td>\n",
       "      <td>0</td>\n",
       "      <td>0</td>\n",
       "      <td>0</td>\n",
       "    </tr>\n",
       "    <tr>\n",
       "      <th>3</th>\n",
       "      <td>=SUBTOTAL(103, A2:A4) &amp; \" items\"</td>\n",
       "      <td>3</td>\n",
       "      <td>1</td>\n",
       "      <td>NaN</td>\n",
       "      <td>=SUBTOTAL(109,E2:E4)</td>\n",
       "      <td>=SUBTOTAL(109,F2:F4)</td>\n",
       "      <td>=SUBTOTAL(109,G2:G4)</td>\n",
       "      <td>=SUBTOTAL(109,I2:I4)</td>\n",
       "      <td>=SUBTOTAL(109,J2:J4)</td>\n",
       "      <td>1</td>\n",
       "    </tr>\n",
       "  </tbody>\n",
       "</table>\n",
       "</div>"
      ],
      "text/plain": [
       "                            OrderId  PurchasedItems  CustomerName   OrderDate  \\\n",
       "0               404-9607175-0534741               0             0  2022-09-09   \n",
       "1               404-7642633-6972349               1             0  2022-05-14   \n",
       "2               404-8392830-0735545               2             0  2022-03-17   \n",
       "3  =SUBTOTAL(103, A2:A4) & \" items\"               3             1         NaN   \n",
       "\n",
       "             AmountPaid       ShippingCharges ShippingChargesRefund  \\\n",
       "0           Rs.4,099.00             Rs. 40.00                     0   \n",
       "1             Rs.597.00             Rs. 40.00                     0   \n",
       "2           Rs.1,399.00             Rs. 40.00                     0   \n",
       "3  =SUBTOTAL(109,E2:E4)  =SUBTOTAL(109,F2:F4)  =SUBTOTAL(109,G2:G4)   \n",
       "\n",
       "                    VAT          RefundAmount  PaymentMethod  \n",
       "0                     0                     0              0  \n",
       "1                     0                     0              0  \n",
       "2                     0                     0              0  \n",
       "3  =SUBTOTAL(109,I2:I4)  =SUBTOTAL(109,J2:J4)              1  "
      ]
     },
     "execution_count": 226,
     "metadata": {},
     "output_type": "execute_result"
    }
   ],
   "source": [
    "s.drop('Gift',axis=1)"
   ]
  },
  {
   "cell_type": "markdown",
   "metadata": {
    "id": "tkYKpuoqprjX"
   },
   "source": [
    "Slicing"
   ]
  },
  {
   "cell_type": "code",
   "execution_count": 227,
   "metadata": {
    "colab": {
     "base_uri": "https://localhost:8080/",
     "height": 337
    },
    "id": "NLRF4Pa3ppcY",
    "outputId": "cf430534-ebe8-4a58-b69a-500669e1a2b3"
   },
   "outputs": [
    {
     "data": {
      "text/html": [
       "<div>\n",
       "<style scoped>\n",
       "    .dataframe tbody tr th:only-of-type {\n",
       "        vertical-align: middle;\n",
       "    }\n",
       "\n",
       "    .dataframe tbody tr th {\n",
       "        vertical-align: top;\n",
       "    }\n",
       "\n",
       "    .dataframe thead th {\n",
       "        text-align: right;\n",
       "    }\n",
       "</style>\n",
       "<table border=\"1\" class=\"dataframe\">\n",
       "  <thead>\n",
       "    <tr style=\"text-align: right;\">\n",
       "      <th></th>\n",
       "      <th>OrderId</th>\n",
       "      <th>PurchasedItems</th>\n",
       "      <th>CustomerName</th>\n",
       "      <th>OrderDate</th>\n",
       "      <th>AmountPaid</th>\n",
       "      <th>ShippingCharges</th>\n",
       "      <th>ShippingChargesRefund</th>\n",
       "      <th>Gift</th>\n",
       "      <th>VAT</th>\n",
       "      <th>RefundAmount</th>\n",
       "      <th>PaymentMethod</th>\n",
       "    </tr>\n",
       "  </thead>\n",
       "  <tbody>\n",
       "    <tr>\n",
       "      <th>0</th>\n",
       "      <td>404-9607175-0534741</td>\n",
       "      <td>0</td>\n",
       "      <td>0</td>\n",
       "      <td>2022-09-09</td>\n",
       "      <td>Rs.4,099.00</td>\n",
       "      <td>Rs. 40.00</td>\n",
       "      <td>0</td>\n",
       "      <td>0</td>\n",
       "      <td>0</td>\n",
       "      <td>0</td>\n",
       "      <td>0</td>\n",
       "    </tr>\n",
       "    <tr>\n",
       "      <th>1</th>\n",
       "      <td>404-7642633-6972349</td>\n",
       "      <td>1</td>\n",
       "      <td>0</td>\n",
       "      <td>2022-05-14</td>\n",
       "      <td>Rs.597.00</td>\n",
       "      <td>Rs. 40.00</td>\n",
       "      <td>0</td>\n",
       "      <td>0</td>\n",
       "      <td>0</td>\n",
       "      <td>0</td>\n",
       "      <td>0</td>\n",
       "    </tr>\n",
       "    <tr>\n",
       "      <th>2</th>\n",
       "      <td>404-8392830-0735545</td>\n",
       "      <td>2</td>\n",
       "      <td>0</td>\n",
       "      <td>2022-03-17</td>\n",
       "      <td>Rs.1,399.00</td>\n",
       "      <td>Rs. 40.00</td>\n",
       "      <td>0</td>\n",
       "      <td>0</td>\n",
       "      <td>0</td>\n",
       "      <td>0</td>\n",
       "      <td>0</td>\n",
       "    </tr>\n",
       "  </tbody>\n",
       "</table>\n",
       "</div>"
      ],
      "text/plain": [
       "               OrderId  PurchasedItems  CustomerName   OrderDate   AmountPaid  \\\n",
       "0  404-9607175-0534741               0             0  2022-09-09  Rs.4,099.00   \n",
       "1  404-7642633-6972349               1             0  2022-05-14    Rs.597.00   \n",
       "2  404-8392830-0735545               2             0  2022-03-17  Rs.1,399.00   \n",
       "\n",
       "  ShippingCharges ShippingChargesRefund Gift VAT RefundAmount  PaymentMethod  \n",
       "0       Rs. 40.00                     0    0   0            0              0  \n",
       "1       Rs. 40.00                     0    0   0            0              0  \n",
       "2       Rs. 40.00                     0    0   0            0              0  "
      ]
     },
     "execution_count": 227,
     "metadata": {},
     "output_type": "execute_result"
    }
   ],
   "source": [
    "s[0:3]"
   ]
  },
  {
   "cell_type": "code",
   "execution_count": 228,
   "metadata": {
    "id": "oGOqt9CJpxs-"
   },
   "outputs": [],
   "source": [
    "s1=s[0:3]"
   ]
  },
  {
   "cell_type": "code",
   "execution_count": 229,
   "metadata": {
    "colab": {
     "base_uri": "https://localhost:8080/",
     "height": 337
    },
    "id": "cIbUWdI0p1I_",
    "outputId": "b5d8fbba-8057-4339-ee08-9ff3726013ba"
   },
   "outputs": [
    {
     "data": {
      "text/html": [
       "<div>\n",
       "<style scoped>\n",
       "    .dataframe tbody tr th:only-of-type {\n",
       "        vertical-align: middle;\n",
       "    }\n",
       "\n",
       "    .dataframe tbody tr th {\n",
       "        vertical-align: top;\n",
       "    }\n",
       "\n",
       "    .dataframe thead th {\n",
       "        text-align: right;\n",
       "    }\n",
       "</style>\n",
       "<table border=\"1\" class=\"dataframe\">\n",
       "  <thead>\n",
       "    <tr style=\"text-align: right;\">\n",
       "      <th></th>\n",
       "      <th>OrderId</th>\n",
       "      <th>PurchasedItems</th>\n",
       "      <th>CustomerName</th>\n",
       "      <th>OrderDate</th>\n",
       "      <th>AmountPaid</th>\n",
       "      <th>ShippingCharges</th>\n",
       "      <th>ShippingChargesRefund</th>\n",
       "      <th>Gift</th>\n",
       "      <th>VAT</th>\n",
       "      <th>RefundAmount</th>\n",
       "      <th>PaymentMethod</th>\n",
       "    </tr>\n",
       "  </thead>\n",
       "  <tbody>\n",
       "    <tr>\n",
       "      <th>0</th>\n",
       "      <td>404-9607175-0534741</td>\n",
       "      <td>0</td>\n",
       "      <td>0</td>\n",
       "      <td>2022-09-09</td>\n",
       "      <td>Rs.4,099.00</td>\n",
       "      <td>Rs. 40.00</td>\n",
       "      <td>0</td>\n",
       "      <td>0</td>\n",
       "      <td>0</td>\n",
       "      <td>0</td>\n",
       "      <td>0</td>\n",
       "    </tr>\n",
       "    <tr>\n",
       "      <th>1</th>\n",
       "      <td>404-7642633-6972349</td>\n",
       "      <td>1</td>\n",
       "      <td>0</td>\n",
       "      <td>2022-05-14</td>\n",
       "      <td>Rs.597.00</td>\n",
       "      <td>Rs. 40.00</td>\n",
       "      <td>0</td>\n",
       "      <td>0</td>\n",
       "      <td>0</td>\n",
       "      <td>0</td>\n",
       "      <td>0</td>\n",
       "    </tr>\n",
       "    <tr>\n",
       "      <th>2</th>\n",
       "      <td>404-8392830-0735545</td>\n",
       "      <td>2</td>\n",
       "      <td>0</td>\n",
       "      <td>2022-03-17</td>\n",
       "      <td>Rs.1,399.00</td>\n",
       "      <td>Rs. 40.00</td>\n",
       "      <td>0</td>\n",
       "      <td>0</td>\n",
       "      <td>0</td>\n",
       "      <td>0</td>\n",
       "      <td>0</td>\n",
       "    </tr>\n",
       "  </tbody>\n",
       "</table>\n",
       "</div>"
      ],
      "text/plain": [
       "               OrderId  PurchasedItems  CustomerName   OrderDate   AmountPaid  \\\n",
       "0  404-9607175-0534741               0             0  2022-09-09  Rs.4,099.00   \n",
       "1  404-7642633-6972349               1             0  2022-05-14    Rs.597.00   \n",
       "2  404-8392830-0735545               2             0  2022-03-17  Rs.1,399.00   \n",
       "\n",
       "  ShippingCharges ShippingChargesRefund Gift VAT RefundAmount  PaymentMethod  \n",
       "0       Rs. 40.00                     0    0   0            0              0  \n",
       "1       Rs. 40.00                     0    0   0            0              0  \n",
       "2       Rs. 40.00                     0    0   0            0              0  "
      ]
     },
     "execution_count": 229,
     "metadata": {},
     "output_type": "execute_result"
    }
   ],
   "source": [
    "s1"
   ]
  },
  {
   "cell_type": "code",
   "execution_count": 230,
   "metadata": {
    "colab": {
     "base_uri": "https://localhost:8080/"
    },
    "id": "juRevvcE4Cwo",
    "outputId": "b4907c2a-f4f2-44c9-957c-8a73af30679b"
   },
   "outputs": [
    {
     "name": "stderr",
     "output_type": "stream",
     "text": [
      "C:\\Users\\Anubhab\\AppData\\Local\\Temp/ipykernel_10780/1767178566.py:1: FutureWarning: The default value of regex will change from True to False in a future version.\n",
      "  s1[\"AmountPaid\"] = s1[\"AmountPaid\"].str.replace('Rs.', '').str.replace(',', '')\n",
      "C:\\Users\\Anubhab\\AppData\\Local\\Temp/ipykernel_10780/1767178566.py:1: SettingWithCopyWarning: \n",
      "A value is trying to be set on a copy of a slice from a DataFrame.\n",
      "Try using .loc[row_indexer,col_indexer] = value instead\n",
      "\n",
      "See the caveats in the documentation: https://pandas.pydata.org/pandas-docs/stable/user_guide/indexing.html#returning-a-view-versus-a-copy\n",
      "  s1[\"AmountPaid\"] = s1[\"AmountPaid\"].str.replace('Rs.', '').str.replace(',', '')\n"
     ]
    }
   ],
   "source": [
    "s1[\"AmountPaid\"] = s1[\"AmountPaid\"].str.replace('Rs.', '').str.replace(',', '')"
   ]
  },
  {
   "cell_type": "markdown",
   "metadata": {
    "id": "EZ07gT605E5z"
   },
   "source": [
    "TypeCasting"
   ]
  },
  {
   "cell_type": "code",
   "execution_count": 231,
   "metadata": {
    "colab": {
     "base_uri": "https://localhost:8080/"
    },
    "id": "nc91cpBD5JmH",
    "outputId": "7af7a472-d2e0-4544-e99d-7e4d75a8fb7a"
   },
   "outputs": [
    {
     "data": {
      "text/plain": [
       "0    4099.0\n",
       "1     597.0\n",
       "2    1399.0\n",
       "Name: AmountPaid, dtype: float64"
      ]
     },
     "execution_count": 231,
     "metadata": {},
     "output_type": "execute_result"
    }
   ],
   "source": [
    "s1[\"AmountPaid\"].astype(float)"
   ]
  },
  {
   "cell_type": "markdown",
   "metadata": {
    "id": "7TFcezFf5RuY"
   },
   "source": [
    "Typecasting didn't reflect "
   ]
  },
  {
   "cell_type": "code",
   "execution_count": 232,
   "metadata": {
    "colab": {
     "base_uri": "https://localhost:8080/",
     "height": 35
    },
    "id": "md8IodyE5VGe",
    "outputId": "ccdb6119-e9c2-4089-b9cb-2423201c5864"
   },
   "outputs": [
    {
     "data": {
      "text/plain": [
       "'4099.00597.001399.00'"
      ]
     },
     "execution_count": 232,
     "metadata": {},
     "output_type": "execute_result"
    }
   ],
   "source": [
    "s1['AmountPaid'].sum()"
   ]
  },
  {
   "cell_type": "code",
   "execution_count": 233,
   "metadata": {
    "colab": {
     "base_uri": "https://localhost:8080/"
    },
    "id": "9nkd6vnC5aTe",
    "outputId": "b824d0f3-8a98-4339-c224-3d63c8a0dfcd"
   },
   "outputs": [
    {
     "name": "stderr",
     "output_type": "stream",
     "text": [
      "C:\\Users\\Anubhab\\AppData\\Local\\Temp/ipykernel_10780/522480925.py:1: SettingWithCopyWarning: \n",
      "A value is trying to be set on a copy of a slice from a DataFrame.\n",
      "Try using .loc[row_indexer,col_indexer] = value instead\n",
      "\n",
      "See the caveats in the documentation: https://pandas.pydata.org/pandas-docs/stable/user_guide/indexing.html#returning-a-view-versus-a-copy\n",
      "  s1[\"AmountPaid\"]=s1[\"AmountPaid\"].astype(float)\n"
     ]
    }
   ],
   "source": [
    "s1[\"AmountPaid\"]=s1[\"AmountPaid\"].astype(float)"
   ]
  },
  {
   "cell_type": "code",
   "execution_count": 234,
   "metadata": {
    "colab": {
     "base_uri": "https://localhost:8080/"
    },
    "id": "XAltlqIX5lB_",
    "outputId": "a7ea32c2-25c0-4ddd-9398-827182f0a280"
   },
   "outputs": [
    {
     "data": {
      "text/plain": [
       "6095.0"
      ]
     },
     "execution_count": 234,
     "metadata": {},
     "output_type": "execute_result"
    }
   ],
   "source": [
    "s1['AmountPaid'].sum()"
   ]
  },
  {
   "cell_type": "code",
   "execution_count": 235,
   "metadata": {
    "colab": {
     "base_uri": "https://localhost:8080/"
    },
    "id": "-dqGZqRW5qar",
    "outputId": "b95c9dd4-539b-4209-f1d9-1cef4cc625d7"
   },
   "outputs": [
    {
     "data": {
      "text/plain": [
       "2031.6666666666667"
      ]
     },
     "execution_count": 235,
     "metadata": {},
     "output_type": "execute_result"
    }
   ],
   "source": [
    "s1['AmountPaid'].mean()"
   ]
  },
  {
   "cell_type": "code",
   "execution_count": 236,
   "metadata": {
    "colab": {
     "base_uri": "https://localhost:8080/"
    },
    "id": "Oc-GXv_05uhB",
    "outputId": "ef1f7404-73ff-4d9b-9384-0914e784fdb4"
   },
   "outputs": [
    {
     "data": {
      "text/plain": [
       "1399.0"
      ]
     },
     "execution_count": 236,
     "metadata": {},
     "output_type": "execute_result"
    }
   ],
   "source": [
    "s1['AmountPaid'].median()"
   ]
  },
  {
   "cell_type": "code",
   "execution_count": 237,
   "metadata": {
    "colab": {
     "base_uri": "https://localhost:8080/"
    },
    "id": "Xiluzlf05z48",
    "outputId": "ad978a8a-de22-4aca-96f9-41a08ba30dcb"
   },
   "outputs": [
    {
     "data": {
      "text/plain": [
       "4099.0"
      ]
     },
     "execution_count": 237,
     "metadata": {},
     "output_type": "execute_result"
    }
   ],
   "source": [
    "s1['AmountPaid'].max()"
   ]
  },
  {
   "cell_type": "code",
   "execution_count": 238,
   "metadata": {
    "colab": {
     "base_uri": "https://localhost:8080/"
    },
    "id": "h-eoS-pv52UN",
    "outputId": "b80604a5-abea-42b8-a109-679de032d9e4"
   },
   "outputs": [
    {
     "data": {
      "text/plain": [
       "597.0"
      ]
     },
     "execution_count": 238,
     "metadata": {},
     "output_type": "execute_result"
    }
   ],
   "source": [
    "s1['AmountPaid'].min()"
   ]
  },
  {
   "cell_type": "code",
   "execution_count": 239,
   "metadata": {},
   "outputs": [
    {
     "data": {
      "text/html": [
       "<div>\n",
       "<style scoped>\n",
       "    .dataframe tbody tr th:only-of-type {\n",
       "        vertical-align: middle;\n",
       "    }\n",
       "\n",
       "    .dataframe tbody tr th {\n",
       "        vertical-align: top;\n",
       "    }\n",
       "\n",
       "    .dataframe thead th {\n",
       "        text-align: right;\n",
       "    }\n",
       "</style>\n",
       "<table border=\"1\" class=\"dataframe\">\n",
       "  <thead>\n",
       "    <tr style=\"text-align: right;\">\n",
       "      <th></th>\n",
       "      <th>OrderId</th>\n",
       "      <th>PurchasedItems</th>\n",
       "      <th>CustomerName</th>\n",
       "      <th>OrderDate</th>\n",
       "      <th>AmountPaid</th>\n",
       "      <th>ShippingCharges</th>\n",
       "      <th>ShippingChargesRefund</th>\n",
       "      <th>Gift</th>\n",
       "      <th>VAT</th>\n",
       "      <th>RefundAmount</th>\n",
       "      <th>PaymentMethod</th>\n",
       "    </tr>\n",
       "  </thead>\n",
       "  <tbody>\n",
       "    <tr>\n",
       "      <th>0</th>\n",
       "      <td>404-9607175-0534741</td>\n",
       "      <td>0</td>\n",
       "      <td>0</td>\n",
       "      <td>2022-09-09</td>\n",
       "      <td>4099.0</td>\n",
       "      <td>Rs. 40.00</td>\n",
       "      <td>0</td>\n",
       "      <td>0</td>\n",
       "      <td>0</td>\n",
       "      <td>0</td>\n",
       "      <td>0</td>\n",
       "    </tr>\n",
       "    <tr>\n",
       "      <th>1</th>\n",
       "      <td>404-7642633-6972349</td>\n",
       "      <td>1</td>\n",
       "      <td>0</td>\n",
       "      <td>2022-05-14</td>\n",
       "      <td>597.0</td>\n",
       "      <td>Rs. 40.00</td>\n",
       "      <td>0</td>\n",
       "      <td>0</td>\n",
       "      <td>0</td>\n",
       "      <td>0</td>\n",
       "      <td>0</td>\n",
       "    </tr>\n",
       "    <tr>\n",
       "      <th>2</th>\n",
       "      <td>404-8392830-0735545</td>\n",
       "      <td>2</td>\n",
       "      <td>0</td>\n",
       "      <td>2022-03-17</td>\n",
       "      <td>1399.0</td>\n",
       "      <td>Rs. 40.00</td>\n",
       "      <td>0</td>\n",
       "      <td>0</td>\n",
       "      <td>0</td>\n",
       "      <td>0</td>\n",
       "      <td>0</td>\n",
       "    </tr>\n",
       "  </tbody>\n",
       "</table>\n",
       "</div>"
      ],
      "text/plain": [
       "               OrderId  PurchasedItems  CustomerName   OrderDate  AmountPaid  \\\n",
       "0  404-9607175-0534741               0             0  2022-09-09      4099.0   \n",
       "1  404-7642633-6972349               1             0  2022-05-14       597.0   \n",
       "2  404-8392830-0735545               2             0  2022-03-17      1399.0   \n",
       "\n",
       "  ShippingCharges ShippingChargesRefund Gift VAT RefundAmount  PaymentMethod  \n",
       "0       Rs. 40.00                     0    0   0            0              0  \n",
       "1       Rs. 40.00                     0    0   0            0              0  \n",
       "2       Rs. 40.00                     0    0   0            0              0  "
      ]
     },
     "execution_count": 239,
     "metadata": {},
     "output_type": "execute_result"
    }
   ],
   "source": [
    "s1.head()"
   ]
  },
  {
   "cell_type": "code",
   "execution_count": 240,
   "metadata": {},
   "outputs": [
    {
     "data": {
      "text/html": [
       "<div>\n",
       "<style scoped>\n",
       "    .dataframe tbody tr th:only-of-type {\n",
       "        vertical-align: middle;\n",
       "    }\n",
       "\n",
       "    .dataframe tbody tr th {\n",
       "        vertical-align: top;\n",
       "    }\n",
       "\n",
       "    .dataframe thead th {\n",
       "        text-align: right;\n",
       "    }\n",
       "</style>\n",
       "<table border=\"1\" class=\"dataframe\">\n",
       "  <thead>\n",
       "    <tr style=\"text-align: right;\">\n",
       "      <th></th>\n",
       "      <th>OrderId</th>\n",
       "      <th>PurchasedItems</th>\n",
       "      <th>CustomerName</th>\n",
       "      <th>OrderDate</th>\n",
       "      <th>AmountPaid</th>\n",
       "      <th>ShippingCharges</th>\n",
       "      <th>ShippingChargesRefund</th>\n",
       "      <th>Gift</th>\n",
       "      <th>VAT</th>\n",
       "      <th>RefundAmount</th>\n",
       "      <th>PaymentMethod</th>\n",
       "    </tr>\n",
       "  </thead>\n",
       "  <tbody>\n",
       "    <tr>\n",
       "      <th>0</th>\n",
       "      <td>404-9607175-0534741</td>\n",
       "      <td>0</td>\n",
       "      <td>0</td>\n",
       "      <td>2022-09-09</td>\n",
       "      <td>4099.0</td>\n",
       "      <td>Rs. 40.00</td>\n",
       "      <td>0</td>\n",
       "      <td>0</td>\n",
       "      <td>0</td>\n",
       "      <td>0</td>\n",
       "      <td>0</td>\n",
       "    </tr>\n",
       "    <tr>\n",
       "      <th>1</th>\n",
       "      <td>404-7642633-6972349</td>\n",
       "      <td>1</td>\n",
       "      <td>0</td>\n",
       "      <td>2022-05-14</td>\n",
       "      <td>597.0</td>\n",
       "      <td>Rs. 40.00</td>\n",
       "      <td>0</td>\n",
       "      <td>0</td>\n",
       "      <td>0</td>\n",
       "      <td>0</td>\n",
       "      <td>0</td>\n",
       "    </tr>\n",
       "    <tr>\n",
       "      <th>2</th>\n",
       "      <td>404-8392830-0735545</td>\n",
       "      <td>2</td>\n",
       "      <td>0</td>\n",
       "      <td>2022-03-17</td>\n",
       "      <td>1399.0</td>\n",
       "      <td>Rs. 40.00</td>\n",
       "      <td>0</td>\n",
       "      <td>0</td>\n",
       "      <td>0</td>\n",
       "      <td>0</td>\n",
       "      <td>0</td>\n",
       "    </tr>\n",
       "  </tbody>\n",
       "</table>\n",
       "</div>"
      ],
      "text/plain": [
       "               OrderId  PurchasedItems  CustomerName   OrderDate  AmountPaid  \\\n",
       "0  404-9607175-0534741               0             0  2022-09-09      4099.0   \n",
       "1  404-7642633-6972349               1             0  2022-05-14       597.0   \n",
       "2  404-8392830-0735545               2             0  2022-03-17      1399.0   \n",
       "\n",
       "  ShippingCharges ShippingChargesRefund Gift VAT RefundAmount  PaymentMethod  \n",
       "0       Rs. 40.00                     0    0   0            0              0  \n",
       "1       Rs. 40.00                     0    0   0            0              0  \n",
       "2       Rs. 40.00                     0    0   0            0              0  "
      ]
     },
     "execution_count": 240,
     "metadata": {},
     "output_type": "execute_result"
    }
   ],
   "source": [
    "s2 = s1[0:8]\n",
    "s2"
   ]
  },
  {
   "cell_type": "code",
   "execution_count": 241,
   "metadata": {},
   "outputs": [],
   "source": [
    "s2[\"OrderId\"] = s2[\"OrderId\"].str.replace('-','')"
   ]
  },
  {
   "cell_type": "code",
   "execution_count": 242,
   "metadata": {},
   "outputs": [
    {
     "data": {
      "text/plain": [
       "0    4.049607e+16\n",
       "1    4.047643e+16\n",
       "2    4.048393e+16\n",
       "Name: OrderId, dtype: float64"
      ]
     },
     "execution_count": 242,
     "metadata": {},
     "output_type": "execute_result"
    }
   ],
   "source": [
    "s2[\"OrderId\"].astype(float)"
   ]
  },
  {
   "cell_type": "code",
   "execution_count": 243,
   "metadata": {},
   "outputs": [
    {
     "data": {
      "text/html": [
       "<div>\n",
       "<style scoped>\n",
       "    .dataframe tbody tr th:only-of-type {\n",
       "        vertical-align: middle;\n",
       "    }\n",
       "\n",
       "    .dataframe tbody tr th {\n",
       "        vertical-align: top;\n",
       "    }\n",
       "\n",
       "    .dataframe thead th {\n",
       "        text-align: right;\n",
       "    }\n",
       "</style>\n",
       "<table border=\"1\" class=\"dataframe\">\n",
       "  <thead>\n",
       "    <tr style=\"text-align: right;\">\n",
       "      <th></th>\n",
       "      <th>OrderId</th>\n",
       "      <th>PurchasedItems</th>\n",
       "      <th>CustomerName</th>\n",
       "      <th>OrderDate</th>\n",
       "      <th>AmountPaid</th>\n",
       "      <th>ShippingCharges</th>\n",
       "      <th>ShippingChargesRefund</th>\n",
       "      <th>Gift</th>\n",
       "      <th>VAT</th>\n",
       "      <th>RefundAmount</th>\n",
       "      <th>PaymentMethod</th>\n",
       "    </tr>\n",
       "  </thead>\n",
       "  <tbody>\n",
       "    <tr>\n",
       "      <th>0</th>\n",
       "      <td>40496071750534741</td>\n",
       "      <td>0</td>\n",
       "      <td>0</td>\n",
       "      <td>2022-09-09</td>\n",
       "      <td>4099.0</td>\n",
       "      <td>Rs. 40.00</td>\n",
       "      <td>0</td>\n",
       "      <td>0</td>\n",
       "      <td>0</td>\n",
       "      <td>0</td>\n",
       "      <td>0</td>\n",
       "    </tr>\n",
       "    <tr>\n",
       "      <th>1</th>\n",
       "      <td>40476426336972349</td>\n",
       "      <td>1</td>\n",
       "      <td>0</td>\n",
       "      <td>2022-05-14</td>\n",
       "      <td>597.0</td>\n",
       "      <td>Rs. 40.00</td>\n",
       "      <td>0</td>\n",
       "      <td>0</td>\n",
       "      <td>0</td>\n",
       "      <td>0</td>\n",
       "      <td>0</td>\n",
       "    </tr>\n",
       "    <tr>\n",
       "      <th>2</th>\n",
       "      <td>40483928300735545</td>\n",
       "      <td>2</td>\n",
       "      <td>0</td>\n",
       "      <td>2022-03-17</td>\n",
       "      <td>1399.0</td>\n",
       "      <td>Rs. 40.00</td>\n",
       "      <td>0</td>\n",
       "      <td>0</td>\n",
       "      <td>0</td>\n",
       "      <td>0</td>\n",
       "      <td>0</td>\n",
       "    </tr>\n",
       "  </tbody>\n",
       "</table>\n",
       "</div>"
      ],
      "text/plain": [
       "             OrderId  PurchasedItems  CustomerName   OrderDate  AmountPaid  \\\n",
       "0  40496071750534741               0             0  2022-09-09      4099.0   \n",
       "1  40476426336972349               1             0  2022-05-14       597.0   \n",
       "2  40483928300735545               2             0  2022-03-17      1399.0   \n",
       "\n",
       "  ShippingCharges ShippingChargesRefund Gift VAT RefundAmount  PaymentMethod  \n",
       "0       Rs. 40.00                     0    0   0            0              0  \n",
       "1       Rs. 40.00                     0    0   0            0              0  \n",
       "2       Rs. 40.00                     0    0   0            0              0  "
      ]
     },
     "execution_count": 243,
     "metadata": {},
     "output_type": "execute_result"
    }
   ],
   "source": [
    "s2"
   ]
  },
  {
   "cell_type": "code",
   "execution_count": 244,
   "metadata": {},
   "outputs": [
    {
     "data": {
      "text/html": [
       "<div>\n",
       "<style scoped>\n",
       "    .dataframe tbody tr th:only-of-type {\n",
       "        vertical-align: middle;\n",
       "    }\n",
       "\n",
       "    .dataframe tbody tr th {\n",
       "        vertical-align: top;\n",
       "    }\n",
       "\n",
       "    .dataframe thead th {\n",
       "        text-align: right;\n",
       "    }\n",
       "</style>\n",
       "<table border=\"1\" class=\"dataframe\">\n",
       "  <thead>\n",
       "    <tr style=\"text-align: right;\">\n",
       "      <th></th>\n",
       "      <th>OrderId</th>\n",
       "      <th>PurchasedItems</th>\n",
       "      <th>CustomerName</th>\n",
       "      <th>OrderDate</th>\n",
       "      <th>AmountPaid</th>\n",
       "      <th>ShippingCharges</th>\n",
       "      <th>ShippingChargesRefund</th>\n",
       "      <th>Gift</th>\n",
       "      <th>VAT</th>\n",
       "      <th>RefundAmount</th>\n",
       "      <th>PaymentMethod</th>\n",
       "    </tr>\n",
       "  </thead>\n",
       "  <tbody>\n",
       "    <tr>\n",
       "      <th>0</th>\n",
       "      <td>40496071750534741</td>\n",
       "      <td>0</td>\n",
       "      <td>0</td>\n",
       "      <td>2022-09-09</td>\n",
       "      <td>4099.0</td>\n",
       "      <td>Rs. 40.00</td>\n",
       "      <td>0</td>\n",
       "      <td>0</td>\n",
       "      <td>0</td>\n",
       "      <td>0</td>\n",
       "      <td>0</td>\n",
       "    </tr>\n",
       "    <tr>\n",
       "      <th>1</th>\n",
       "      <td>40476426336972349</td>\n",
       "      <td>1</td>\n",
       "      <td>0</td>\n",
       "      <td>2022-05-14</td>\n",
       "      <td>597.0</td>\n",
       "      <td>Rs. 40.00</td>\n",
       "      <td>0</td>\n",
       "      <td>0</td>\n",
       "      <td>0</td>\n",
       "      <td>0</td>\n",
       "      <td>0</td>\n",
       "    </tr>\n",
       "    <tr>\n",
       "      <th>2</th>\n",
       "      <td>40483928300735545</td>\n",
       "      <td>2</td>\n",
       "      <td>0</td>\n",
       "      <td>2022-03-17</td>\n",
       "      <td>1399.0</td>\n",
       "      <td>Rs. 40.00</td>\n",
       "      <td>0</td>\n",
       "      <td>0</td>\n",
       "      <td>0</td>\n",
       "      <td>0</td>\n",
       "      <td>0</td>\n",
       "    </tr>\n",
       "  </tbody>\n",
       "</table>\n",
       "</div>"
      ],
      "text/plain": [
       "             OrderId  PurchasedItems  CustomerName   OrderDate  AmountPaid  \\\n",
       "0  40496071750534741               0             0  2022-09-09      4099.0   \n",
       "1  40476426336972349               1             0  2022-05-14       597.0   \n",
       "2  40483928300735545               2             0  2022-03-17      1399.0   \n",
       "\n",
       "  ShippingCharges ShippingChargesRefund Gift VAT RefundAmount  PaymentMethod  \n",
       "0       Rs. 40.00                     0    0   0            0              0  \n",
       "1       Rs. 40.00                     0    0   0            0              0  \n",
       "2       Rs. 40.00                     0    0   0            0              0  "
      ]
     },
     "execution_count": 244,
     "metadata": {},
     "output_type": "execute_result"
    }
   ],
   "source": [
    "s3 = s2[0:8]\n",
    "s3"
   ]
  },
  {
   "cell_type": "code",
   "execution_count": 245,
   "metadata": {},
   "outputs": [],
   "source": [
    "s3[\"OrderDate\"] = s3[\"OrderDate\"].str.replace('-','')"
   ]
  },
  {
   "cell_type": "code",
   "execution_count": 246,
   "metadata": {},
   "outputs": [
    {
     "data": {
      "text/plain": [
       "0    20220909.0\n",
       "1    20220514.0\n",
       "2    20220317.0\n",
       "Name: OrderDate, dtype: float64"
      ]
     },
     "execution_count": 246,
     "metadata": {},
     "output_type": "execute_result"
    }
   ],
   "source": [
    "s3[\"OrderDate\"].astype(float)"
   ]
  },
  {
   "cell_type": "code",
   "execution_count": 247,
   "metadata": {},
   "outputs": [
    {
     "data": {
      "text/html": [
       "<div>\n",
       "<style scoped>\n",
       "    .dataframe tbody tr th:only-of-type {\n",
       "        vertical-align: middle;\n",
       "    }\n",
       "\n",
       "    .dataframe tbody tr th {\n",
       "        vertical-align: top;\n",
       "    }\n",
       "\n",
       "    .dataframe thead th {\n",
       "        text-align: right;\n",
       "    }\n",
       "</style>\n",
       "<table border=\"1\" class=\"dataframe\">\n",
       "  <thead>\n",
       "    <tr style=\"text-align: right;\">\n",
       "      <th></th>\n",
       "      <th>OrderId</th>\n",
       "      <th>PurchasedItems</th>\n",
       "      <th>CustomerName</th>\n",
       "      <th>OrderDate</th>\n",
       "      <th>AmountPaid</th>\n",
       "      <th>ShippingCharges</th>\n",
       "      <th>ShippingChargesRefund</th>\n",
       "      <th>Gift</th>\n",
       "      <th>VAT</th>\n",
       "      <th>RefundAmount</th>\n",
       "      <th>PaymentMethod</th>\n",
       "    </tr>\n",
       "  </thead>\n",
       "  <tbody>\n",
       "    <tr>\n",
       "      <th>0</th>\n",
       "      <td>40496071750534741</td>\n",
       "      <td>0</td>\n",
       "      <td>0</td>\n",
       "      <td>20220909</td>\n",
       "      <td>4099.0</td>\n",
       "      <td>Rs. 40.00</td>\n",
       "      <td>0</td>\n",
       "      <td>0</td>\n",
       "      <td>0</td>\n",
       "      <td>0</td>\n",
       "      <td>0</td>\n",
       "    </tr>\n",
       "    <tr>\n",
       "      <th>1</th>\n",
       "      <td>40476426336972349</td>\n",
       "      <td>1</td>\n",
       "      <td>0</td>\n",
       "      <td>20220514</td>\n",
       "      <td>597.0</td>\n",
       "      <td>Rs. 40.00</td>\n",
       "      <td>0</td>\n",
       "      <td>0</td>\n",
       "      <td>0</td>\n",
       "      <td>0</td>\n",
       "      <td>0</td>\n",
       "    </tr>\n",
       "    <tr>\n",
       "      <th>2</th>\n",
       "      <td>40483928300735545</td>\n",
       "      <td>2</td>\n",
       "      <td>0</td>\n",
       "      <td>20220317</td>\n",
       "      <td>1399.0</td>\n",
       "      <td>Rs. 40.00</td>\n",
       "      <td>0</td>\n",
       "      <td>0</td>\n",
       "      <td>0</td>\n",
       "      <td>0</td>\n",
       "      <td>0</td>\n",
       "    </tr>\n",
       "  </tbody>\n",
       "</table>\n",
       "</div>"
      ],
      "text/plain": [
       "             OrderId  PurchasedItems  CustomerName OrderDate  AmountPaid  \\\n",
       "0  40496071750534741               0             0  20220909      4099.0   \n",
       "1  40476426336972349               1             0  20220514       597.0   \n",
       "2  40483928300735545               2             0  20220317      1399.0   \n",
       "\n",
       "  ShippingCharges ShippingChargesRefund Gift VAT RefundAmount  PaymentMethod  \n",
       "0       Rs. 40.00                     0    0   0            0              0  \n",
       "1       Rs. 40.00                     0    0   0            0              0  \n",
       "2       Rs. 40.00                     0    0   0            0              0  "
      ]
     },
     "execution_count": 247,
     "metadata": {},
     "output_type": "execute_result"
    }
   ],
   "source": [
    "s3"
   ]
  },
  {
   "cell_type": "code",
   "execution_count": 248,
   "metadata": {},
   "outputs": [
    {
     "data": {
      "text/html": [
       "<div>\n",
       "<style scoped>\n",
       "    .dataframe tbody tr th:only-of-type {\n",
       "        vertical-align: middle;\n",
       "    }\n",
       "\n",
       "    .dataframe tbody tr th {\n",
       "        vertical-align: top;\n",
       "    }\n",
       "\n",
       "    .dataframe thead th {\n",
       "        text-align: right;\n",
       "    }\n",
       "</style>\n",
       "<table border=\"1\" class=\"dataframe\">\n",
       "  <thead>\n",
       "    <tr style=\"text-align: right;\">\n",
       "      <th></th>\n",
       "      <th>OrderId</th>\n",
       "      <th>PurchasedItems</th>\n",
       "      <th>CustomerName</th>\n",
       "      <th>OrderDate</th>\n",
       "      <th>AmountPaid</th>\n",
       "      <th>ShippingCharges</th>\n",
       "      <th>ShippingChargesRefund</th>\n",
       "      <th>Gift</th>\n",
       "      <th>VAT</th>\n",
       "      <th>RefundAmount</th>\n",
       "      <th>PaymentMethod</th>\n",
       "    </tr>\n",
       "  </thead>\n",
       "  <tbody>\n",
       "    <tr>\n",
       "      <th>0</th>\n",
       "      <td>40496071750534741</td>\n",
       "      <td>0</td>\n",
       "      <td>0</td>\n",
       "      <td>20220909</td>\n",
       "      <td>4099.0</td>\n",
       "      <td>Rs. 40.00</td>\n",
       "      <td>0</td>\n",
       "      <td>0</td>\n",
       "      <td>0</td>\n",
       "      <td>0</td>\n",
       "      <td>0</td>\n",
       "    </tr>\n",
       "    <tr>\n",
       "      <th>1</th>\n",
       "      <td>40476426336972349</td>\n",
       "      <td>1</td>\n",
       "      <td>0</td>\n",
       "      <td>20220514</td>\n",
       "      <td>597.0</td>\n",
       "      <td>Rs. 40.00</td>\n",
       "      <td>0</td>\n",
       "      <td>0</td>\n",
       "      <td>0</td>\n",
       "      <td>0</td>\n",
       "      <td>0</td>\n",
       "    </tr>\n",
       "    <tr>\n",
       "      <th>2</th>\n",
       "      <td>40483928300735545</td>\n",
       "      <td>2</td>\n",
       "      <td>0</td>\n",
       "      <td>20220317</td>\n",
       "      <td>1399.0</td>\n",
       "      <td>Rs. 40.00</td>\n",
       "      <td>0</td>\n",
       "      <td>0</td>\n",
       "      <td>0</td>\n",
       "      <td>0</td>\n",
       "      <td>0</td>\n",
       "    </tr>\n",
       "  </tbody>\n",
       "</table>\n",
       "</div>"
      ],
      "text/plain": [
       "             OrderId  PurchasedItems  CustomerName OrderDate  AmountPaid  \\\n",
       "0  40496071750534741               0             0  20220909      4099.0   \n",
       "1  40476426336972349               1             0  20220514       597.0   \n",
       "2  40483928300735545               2             0  20220317      1399.0   \n",
       "\n",
       "  ShippingCharges ShippingChargesRefund Gift VAT RefundAmount  PaymentMethod  \n",
       "0       Rs. 40.00                     0    0   0            0              0  \n",
       "1       Rs. 40.00                     0    0   0            0              0  \n",
       "2       Rs. 40.00                     0    0   0            0              0  "
      ]
     },
     "execution_count": 248,
     "metadata": {},
     "output_type": "execute_result"
    }
   ],
   "source": [
    "s4 = s3[0:8]\n",
    "s4"
   ]
  },
  {
   "cell_type": "code",
   "execution_count": 249,
   "metadata": {},
   "outputs": [
    {
     "name": "stderr",
     "output_type": "stream",
     "text": [
      "C:\\Users\\Anubhab\\AppData\\Local\\Temp/ipykernel_10780/931539473.py:1: FutureWarning: The default value of regex will change from True to False in a future version.\n",
      "  s4[\"ShippingCharges\"] = s4[\"ShippingCharges\"].str.replace('Rs.','')\n"
     ]
    }
   ],
   "source": [
    "s4[\"ShippingCharges\"] = s4[\"ShippingCharges\"].str.replace('Rs.','')"
   ]
  },
  {
   "cell_type": "code",
   "execution_count": 250,
   "metadata": {},
   "outputs": [
    {
     "data": {
      "text/plain": [
       "0    40.0\n",
       "1    40.0\n",
       "2    40.0\n",
       "Name: ShippingCharges, dtype: float64"
      ]
     },
     "execution_count": 250,
     "metadata": {},
     "output_type": "execute_result"
    }
   ],
   "source": [
    "s4[\"ShippingCharges\"].astype(float)"
   ]
  },
  {
   "cell_type": "code",
   "execution_count": 251,
   "metadata": {},
   "outputs": [
    {
     "data": {
      "text/html": [
       "<div>\n",
       "<style scoped>\n",
       "    .dataframe tbody tr th:only-of-type {\n",
       "        vertical-align: middle;\n",
       "    }\n",
       "\n",
       "    .dataframe tbody tr th {\n",
       "        vertical-align: top;\n",
       "    }\n",
       "\n",
       "    .dataframe thead th {\n",
       "        text-align: right;\n",
       "    }\n",
       "</style>\n",
       "<table border=\"1\" class=\"dataframe\">\n",
       "  <thead>\n",
       "    <tr style=\"text-align: right;\">\n",
       "      <th></th>\n",
       "      <th>OrderId</th>\n",
       "      <th>PurchasedItems</th>\n",
       "      <th>CustomerName</th>\n",
       "      <th>OrderDate</th>\n",
       "      <th>AmountPaid</th>\n",
       "      <th>ShippingCharges</th>\n",
       "      <th>ShippingChargesRefund</th>\n",
       "      <th>Gift</th>\n",
       "      <th>VAT</th>\n",
       "      <th>RefundAmount</th>\n",
       "      <th>PaymentMethod</th>\n",
       "    </tr>\n",
       "  </thead>\n",
       "  <tbody>\n",
       "    <tr>\n",
       "      <th>0</th>\n",
       "      <td>40496071750534741</td>\n",
       "      <td>0</td>\n",
       "      <td>0</td>\n",
       "      <td>20220909</td>\n",
       "      <td>4099.0</td>\n",
       "      <td>40.00</td>\n",
       "      <td>0</td>\n",
       "      <td>0</td>\n",
       "      <td>0</td>\n",
       "      <td>0</td>\n",
       "      <td>0</td>\n",
       "    </tr>\n",
       "    <tr>\n",
       "      <th>1</th>\n",
       "      <td>40476426336972349</td>\n",
       "      <td>1</td>\n",
       "      <td>0</td>\n",
       "      <td>20220514</td>\n",
       "      <td>597.0</td>\n",
       "      <td>40.00</td>\n",
       "      <td>0</td>\n",
       "      <td>0</td>\n",
       "      <td>0</td>\n",
       "      <td>0</td>\n",
       "      <td>0</td>\n",
       "    </tr>\n",
       "    <tr>\n",
       "      <th>2</th>\n",
       "      <td>40483928300735545</td>\n",
       "      <td>2</td>\n",
       "      <td>0</td>\n",
       "      <td>20220317</td>\n",
       "      <td>1399.0</td>\n",
       "      <td>40.00</td>\n",
       "      <td>0</td>\n",
       "      <td>0</td>\n",
       "      <td>0</td>\n",
       "      <td>0</td>\n",
       "      <td>0</td>\n",
       "    </tr>\n",
       "  </tbody>\n",
       "</table>\n",
       "</div>"
      ],
      "text/plain": [
       "             OrderId  PurchasedItems  CustomerName OrderDate  AmountPaid  \\\n",
       "0  40496071750534741               0             0  20220909      4099.0   \n",
       "1  40476426336972349               1             0  20220514       597.0   \n",
       "2  40483928300735545               2             0  20220317      1399.0   \n",
       "\n",
       "  ShippingCharges ShippingChargesRefund Gift VAT RefundAmount  PaymentMethod  \n",
       "0           40.00                     0    0   0            0              0  \n",
       "1           40.00                     0    0   0            0              0  \n",
       "2           40.00                     0    0   0            0              0  "
      ]
     },
     "execution_count": 251,
     "metadata": {},
     "output_type": "execute_result"
    }
   ],
   "source": [
    "s4"
   ]
  },
  {
   "cell_type": "code",
   "execution_count": 252,
   "metadata": {},
   "outputs": [
    {
     "data": {
      "text/html": [
       "<div>\n",
       "<style scoped>\n",
       "    .dataframe tbody tr th:only-of-type {\n",
       "        vertical-align: middle;\n",
       "    }\n",
       "\n",
       "    .dataframe tbody tr th {\n",
       "        vertical-align: top;\n",
       "    }\n",
       "\n",
       "    .dataframe thead th {\n",
       "        text-align: right;\n",
       "    }\n",
       "</style>\n",
       "<table border=\"1\" class=\"dataframe\">\n",
       "  <thead>\n",
       "    <tr style=\"text-align: right;\">\n",
       "      <th></th>\n",
       "      <th>OrderId</th>\n",
       "      <th>PurchasedItems</th>\n",
       "      <th>CustomerName</th>\n",
       "      <th>OrderDate</th>\n",
       "      <th>AmountPaid</th>\n",
       "      <th>ShippingCharges</th>\n",
       "      <th>ShippingChargesRefund</th>\n",
       "      <th>Gift</th>\n",
       "      <th>VAT</th>\n",
       "      <th>RefundAmount</th>\n",
       "      <th>PaymentMethod</th>\n",
       "    </tr>\n",
       "  </thead>\n",
       "  <tbody>\n",
       "    <tr>\n",
       "      <th>0</th>\n",
       "      <td>40496071750534741</td>\n",
       "      <td>0</td>\n",
       "      <td>0</td>\n",
       "      <td>20220909</td>\n",
       "      <td>4099.0</td>\n",
       "      <td>40.00</td>\n",
       "      <td>0</td>\n",
       "      <td>0</td>\n",
       "      <td>0</td>\n",
       "      <td>0</td>\n",
       "      <td>0</td>\n",
       "    </tr>\n",
       "    <tr>\n",
       "      <th>1</th>\n",
       "      <td>40476426336972349</td>\n",
       "      <td>1</td>\n",
       "      <td>0</td>\n",
       "      <td>20220514</td>\n",
       "      <td>597.0</td>\n",
       "      <td>40.00</td>\n",
       "      <td>0</td>\n",
       "      <td>0</td>\n",
       "      <td>0</td>\n",
       "      <td>0</td>\n",
       "      <td>0</td>\n",
       "    </tr>\n",
       "    <tr>\n",
       "      <th>2</th>\n",
       "      <td>40483928300735545</td>\n",
       "      <td>2</td>\n",
       "      <td>0</td>\n",
       "      <td>20220317</td>\n",
       "      <td>1399.0</td>\n",
       "      <td>40.00</td>\n",
       "      <td>0</td>\n",
       "      <td>0</td>\n",
       "      <td>0</td>\n",
       "      <td>0</td>\n",
       "      <td>0</td>\n",
       "    </tr>\n",
       "  </tbody>\n",
       "</table>\n",
       "</div>"
      ],
      "text/plain": [
       "             OrderId  PurchasedItems  CustomerName OrderDate  AmountPaid  \\\n",
       "0  40496071750534741               0             0  20220909      4099.0   \n",
       "1  40476426336972349               1             0  20220514       597.0   \n",
       "2  40483928300735545               2             0  20220317      1399.0   \n",
       "\n",
       "  ShippingCharges ShippingChargesRefund Gift VAT RefundAmount  PaymentMethod  \n",
       "0           40.00                     0    0   0            0              0  \n",
       "1           40.00                     0    0   0            0              0  \n",
       "2           40.00                     0    0   0            0              0  "
      ]
     },
     "execution_count": 252,
     "metadata": {},
     "output_type": "execute_result"
    }
   ],
   "source": [
    "s5 = s4[0:8]\n",
    "s5"
   ]
  },
  {
   "cell_type": "code",
   "execution_count": 253,
   "metadata": {},
   "outputs": [
    {
     "name": "stderr",
     "output_type": "stream",
     "text": [
      "C:\\Users\\Anubhab\\AppData\\Local\\Temp/ipykernel_10780/973258965.py:1: FutureWarning: The default value of regex will change from True to False in a future version.\n",
      "  s5[\"RefundAmount\"] = s5[\"RefundAmount\"].str.replace('Rs.','')\n"
     ]
    }
   ],
   "source": [
    "s5[\"RefundAmount\"] = s5[\"RefundAmount\"].str.replace('Rs.','')"
   ]
  },
  {
   "cell_type": "code",
   "execution_count": 254,
   "metadata": {},
   "outputs": [
    {
     "data": {
      "text/plain": [
       "0    0.0\n",
       "1    0.0\n",
       "2    0.0\n",
       "Name: RefundAmount, dtype: float64"
      ]
     },
     "execution_count": 254,
     "metadata": {},
     "output_type": "execute_result"
    }
   ],
   "source": [
    "s5[\"RefundAmount\"].astype(float)"
   ]
  },
  {
   "cell_type": "code",
   "execution_count": 255,
   "metadata": {},
   "outputs": [
    {
     "data": {
      "text/html": [
       "<div>\n",
       "<style scoped>\n",
       "    .dataframe tbody tr th:only-of-type {\n",
       "        vertical-align: middle;\n",
       "    }\n",
       "\n",
       "    .dataframe tbody tr th {\n",
       "        vertical-align: top;\n",
       "    }\n",
       "\n",
       "    .dataframe thead th {\n",
       "        text-align: right;\n",
       "    }\n",
       "</style>\n",
       "<table border=\"1\" class=\"dataframe\">\n",
       "  <thead>\n",
       "    <tr style=\"text-align: right;\">\n",
       "      <th></th>\n",
       "      <th>OrderId</th>\n",
       "      <th>PurchasedItems</th>\n",
       "      <th>CustomerName</th>\n",
       "      <th>OrderDate</th>\n",
       "      <th>AmountPaid</th>\n",
       "      <th>ShippingCharges</th>\n",
       "      <th>ShippingChargesRefund</th>\n",
       "      <th>Gift</th>\n",
       "      <th>VAT</th>\n",
       "      <th>RefundAmount</th>\n",
       "      <th>PaymentMethod</th>\n",
       "    </tr>\n",
       "  </thead>\n",
       "  <tbody>\n",
       "    <tr>\n",
       "      <th>0</th>\n",
       "      <td>40496071750534741</td>\n",
       "      <td>0</td>\n",
       "      <td>0</td>\n",
       "      <td>20220909</td>\n",
       "      <td>4099.0</td>\n",
       "      <td>40.00</td>\n",
       "      <td>0</td>\n",
       "      <td>0</td>\n",
       "      <td>0</td>\n",
       "      <td>0</td>\n",
       "      <td>0</td>\n",
       "    </tr>\n",
       "    <tr>\n",
       "      <th>1</th>\n",
       "      <td>40476426336972349</td>\n",
       "      <td>1</td>\n",
       "      <td>0</td>\n",
       "      <td>20220514</td>\n",
       "      <td>597.0</td>\n",
       "      <td>40.00</td>\n",
       "      <td>0</td>\n",
       "      <td>0</td>\n",
       "      <td>0</td>\n",
       "      <td>0</td>\n",
       "      <td>0</td>\n",
       "    </tr>\n",
       "    <tr>\n",
       "      <th>2</th>\n",
       "      <td>40483928300735545</td>\n",
       "      <td>2</td>\n",
       "      <td>0</td>\n",
       "      <td>20220317</td>\n",
       "      <td>1399.0</td>\n",
       "      <td>40.00</td>\n",
       "      <td>0</td>\n",
       "      <td>0</td>\n",
       "      <td>0</td>\n",
       "      <td>0</td>\n",
       "      <td>0</td>\n",
       "    </tr>\n",
       "  </tbody>\n",
       "</table>\n",
       "</div>"
      ],
      "text/plain": [
       "             OrderId  PurchasedItems  CustomerName OrderDate  AmountPaid  \\\n",
       "0  40496071750534741               0             0  20220909      4099.0   \n",
       "1  40476426336972349               1             0  20220514       597.0   \n",
       "2  40483928300735545               2             0  20220317      1399.0   \n",
       "\n",
       "  ShippingCharges ShippingChargesRefund Gift VAT RefundAmount  PaymentMethod  \n",
       "0           40.00                     0    0   0            0              0  \n",
       "1           40.00                     0    0   0            0              0  \n",
       "2           40.00                     0    0   0            0              0  "
      ]
     },
     "execution_count": 255,
     "metadata": {},
     "output_type": "execute_result"
    }
   ],
   "source": [
    "s5"
   ]
  },
  {
   "cell_type": "code",
   "execution_count": 256,
   "metadata": {},
   "outputs": [
    {
     "data": {
      "text/html": [
       "<div>\n",
       "<style scoped>\n",
       "    .dataframe tbody tr th:only-of-type {\n",
       "        vertical-align: middle;\n",
       "    }\n",
       "\n",
       "    .dataframe tbody tr th {\n",
       "        vertical-align: top;\n",
       "    }\n",
       "\n",
       "    .dataframe thead th {\n",
       "        text-align: right;\n",
       "    }\n",
       "</style>\n",
       "<table border=\"1\" class=\"dataframe\">\n",
       "  <thead>\n",
       "    <tr style=\"text-align: right;\">\n",
       "      <th></th>\n",
       "      <th>OrderId</th>\n",
       "      <th>PurchasedItems</th>\n",
       "      <th>CustomerName</th>\n",
       "      <th>OrderDate</th>\n",
       "      <th>AmountPaid</th>\n",
       "      <th>ShippingCharges</th>\n",
       "      <th>ShippingChargesRefund</th>\n",
       "      <th>Gift</th>\n",
       "      <th>VAT</th>\n",
       "      <th>RefundAmount</th>\n",
       "      <th>PaymentMethod</th>\n",
       "    </tr>\n",
       "  </thead>\n",
       "  <tbody>\n",
       "    <tr>\n",
       "      <th>0</th>\n",
       "      <td>40496071750534741</td>\n",
       "      <td>0</td>\n",
       "      <td>0</td>\n",
       "      <td>20220909</td>\n",
       "      <td>4099.0</td>\n",
       "      <td>40.00</td>\n",
       "      <td>0</td>\n",
       "      <td>0</td>\n",
       "      <td>0</td>\n",
       "      <td>0</td>\n",
       "      <td>0</td>\n",
       "    </tr>\n",
       "    <tr>\n",
       "      <th>1</th>\n",
       "      <td>40476426336972349</td>\n",
       "      <td>1</td>\n",
       "      <td>0</td>\n",
       "      <td>20220514</td>\n",
       "      <td>597.0</td>\n",
       "      <td>40.00</td>\n",
       "      <td>0</td>\n",
       "      <td>0</td>\n",
       "      <td>0</td>\n",
       "      <td>0</td>\n",
       "      <td>0</td>\n",
       "    </tr>\n",
       "    <tr>\n",
       "      <th>2</th>\n",
       "      <td>40483928300735545</td>\n",
       "      <td>2</td>\n",
       "      <td>0</td>\n",
       "      <td>20220317</td>\n",
       "      <td>1399.0</td>\n",
       "      <td>40.00</td>\n",
       "      <td>0</td>\n",
       "      <td>0</td>\n",
       "      <td>0</td>\n",
       "      <td>0</td>\n",
       "      <td>0</td>\n",
       "    </tr>\n",
       "  </tbody>\n",
       "</table>\n",
       "</div>"
      ],
      "text/plain": [
       "             OrderId  PurchasedItems  CustomerName OrderDate  AmountPaid  \\\n",
       "0  40496071750534741               0             0  20220909      4099.0   \n",
       "1  40476426336972349               1             0  20220514       597.0   \n",
       "2  40483928300735545               2             0  20220317      1399.0   \n",
       "\n",
       "  ShippingCharges ShippingChargesRefund Gift VAT RefundAmount  PaymentMethod  \n",
       "0           40.00                     0    0   0            0              0  \n",
       "1           40.00                     0    0   0            0              0  \n",
       "2           40.00                     0    0   0            0              0  "
      ]
     },
     "execution_count": 256,
     "metadata": {},
     "output_type": "execute_result"
    }
   ],
   "source": [
    "from sklearn.preprocessing import StandardScaler\n",
    " \n",
    "# Read s from CSV\n",
    "\n",
    "s5.head()"
   ]
  },
  {
   "cell_type": "code",
   "execution_count": 257,
   "metadata": {},
   "outputs": [
    {
     "data": {
      "text/html": [
       "<style>#sk-container-id-4 {color: black;background-color: white;}#sk-container-id-4 pre{padding: 0;}#sk-container-id-4 div.sk-toggleable {background-color: white;}#sk-container-id-4 label.sk-toggleable__label {cursor: pointer;display: block;width: 100%;margin-bottom: 0;padding: 0.3em;box-sizing: border-box;text-align: center;}#sk-container-id-4 label.sk-toggleable__label-arrow:before {content: \"▸\";float: left;margin-right: 0.25em;color: #696969;}#sk-container-id-4 label.sk-toggleable__label-arrow:hover:before {color: black;}#sk-container-id-4 div.sk-estimator:hover label.sk-toggleable__label-arrow:before {color: black;}#sk-container-id-4 div.sk-toggleable__content {max-height: 0;max-width: 0;overflow: hidden;text-align: left;background-color: #f0f8ff;}#sk-container-id-4 div.sk-toggleable__content pre {margin: 0.2em;color: black;border-radius: 0.25em;background-color: #f0f8ff;}#sk-container-id-4 input.sk-toggleable__control:checked~div.sk-toggleable__content {max-height: 200px;max-width: 100%;overflow: auto;}#sk-container-id-4 input.sk-toggleable__control:checked~label.sk-toggleable__label-arrow:before {content: \"▾\";}#sk-container-id-4 div.sk-estimator input.sk-toggleable__control:checked~label.sk-toggleable__label {background-color: #d4ebff;}#sk-container-id-4 div.sk-label input.sk-toggleable__control:checked~label.sk-toggleable__label {background-color: #d4ebff;}#sk-container-id-4 input.sk-hidden--visually {border: 0;clip: rect(1px 1px 1px 1px);clip: rect(1px, 1px, 1px, 1px);height: 1px;margin: -1px;overflow: hidden;padding: 0;position: absolute;width: 1px;}#sk-container-id-4 div.sk-estimator {font-family: monospace;background-color: #f0f8ff;border: 1px dotted black;border-radius: 0.25em;box-sizing: border-box;margin-bottom: 0.5em;}#sk-container-id-4 div.sk-estimator:hover {background-color: #d4ebff;}#sk-container-id-4 div.sk-parallel-item::after {content: \"\";width: 100%;border-bottom: 1px solid gray;flex-grow: 1;}#sk-container-id-4 div.sk-label:hover label.sk-toggleable__label {background-color: #d4ebff;}#sk-container-id-4 div.sk-serial::before {content: \"\";position: absolute;border-left: 1px solid gray;box-sizing: border-box;top: 0;bottom: 0;left: 50%;z-index: 0;}#sk-container-id-4 div.sk-serial {display: flex;flex-direction: column;align-items: center;background-color: white;padding-right: 0.2em;padding-left: 0.2em;position: relative;}#sk-container-id-4 div.sk-item {position: relative;z-index: 1;}#sk-container-id-4 div.sk-parallel {display: flex;align-items: stretch;justify-content: center;background-color: white;position: relative;}#sk-container-id-4 div.sk-item::before, #sk-container-id-4 div.sk-parallel-item::before {content: \"\";position: absolute;border-left: 1px solid gray;box-sizing: border-box;top: 0;bottom: 0;left: 50%;z-index: -1;}#sk-container-id-4 div.sk-parallel-item {display: flex;flex-direction: column;z-index: 1;position: relative;background-color: white;}#sk-container-id-4 div.sk-parallel-item:first-child::after {align-self: flex-end;width: 50%;}#sk-container-id-4 div.sk-parallel-item:last-child::after {align-self: flex-start;width: 50%;}#sk-container-id-4 div.sk-parallel-item:only-child::after {width: 0;}#sk-container-id-4 div.sk-dashed-wrapped {border: 1px dashed gray;margin: 0 0.4em 0.5em 0.4em;box-sizing: border-box;padding-bottom: 0.4em;background-color: white;}#sk-container-id-4 div.sk-label label {font-family: monospace;font-weight: bold;display: inline-block;line-height: 1.2em;}#sk-container-id-4 div.sk-label-container {text-align: center;}#sk-container-id-4 div.sk-container {/* jupyter's `normalize.less` sets `[hidden] { display: none; }` but bootstrap.min.css set `[hidden] { display: none !important; }` so we also need the `!important` here to be able to override the default hidden behavior on the sphinx rendered scikit-learn.org. See: https://github.com/scikit-learn/scikit-learn/issues/21755 */display: inline-block !important;position: relative;}#sk-container-id-4 div.sk-text-repr-fallback {display: none;}</style><div id=\"sk-container-id-4\" class=\"sk-top-container\"><div class=\"sk-text-repr-fallback\"><pre>StandardScaler()</pre><b>In a Jupyter environment, please rerun this cell to show the HTML representation or trust the notebook. <br />On GitHub, the HTML representation is unable to render, please try loading this page with nbviewer.org.</b></div><div class=\"sk-container\" hidden><div class=\"sk-item\"><div class=\"sk-estimator sk-toggleable\"><input class=\"sk-toggleable__control sk-hidden--visually\" id=\"sk-estimator-id-4\" type=\"checkbox\" checked><label for=\"sk-estimator-id-4\" class=\"sk-toggleable__label sk-toggleable__label-arrow\">StandardScaler</label><div class=\"sk-toggleable__content\"><pre>StandardScaler()</pre></div></div></div></div></div>"
      ],
      "text/plain": [
       "StandardScaler()"
      ]
     },
     "execution_count": 257,
     "metadata": {},
     "output_type": "execute_result"
    }
   ],
   "source": [
    "# Initialise the Scaler\n",
    "scaler = StandardScaler()\n",
    " \n",
    "# To scale s\n",
    "scaler.fit(s5)"
   ]
  },
  {
   "cell_type": "code",
   "execution_count": 258,
   "metadata": {},
   "outputs": [
    {
     "data": {
      "image/png": "[encoded data removed]",
      "text/plain": [
       "<Figure size 432x288 with 1 Axes>"
      ]
     },
     "metadata": {
      "needs_background": "light"
     },
     "output_type": "display_data"
    },
    {
     "data": {
      "text/plain": [
       "<Figure size 720x504 with 0 Axes>"
      ]
     },
     "metadata": {},
     "output_type": "display_data"
    }
   ],
   "source": [
    "arr=[]\n",
    "arr=np.append(arr,s5['AmountPaid'])\n",
    "plt.boxplot(arr)\n",
    "fig=plt.figure(figsize=(10,7))\n",
    "plt.show()"
   ]
  },
  {
   "cell_type": "code",
   "execution_count": 259,
   "metadata": {},
   "outputs": [
    {
     "name": "stdout",
     "output_type": "stream",
     "text": [
      "IQR:  1751.0\n",
      "Upper bound:  5375.5\n",
      "Lower bound:  -1628.5\n"
     ]
    }
   ],
   "source": [
    "q1=np.quantile(arr,0.25)\n",
    "q3=np.quantile(arr,0.75)\n",
    "med=np.median(arr)\n",
    "iqr=q3-q1\n",
    "upper=q3+(1.5*iqr)\n",
    "lower=q1-(1.5*iqr)\n",
    "print(\"IQR: \",iqr)\n",
    "print(\"Upper bound: \",upper)\n",
    "print(\"Lower bound: \",lower)"
   ]
  },
  {
   "cell_type": "code",
   "execution_count": 260,
   "metadata": {},
   "outputs": [
    {
     "name": "stdout",
     "output_type": "stream",
     "text": [
      "Outliers are: []\n"
     ]
    },
    {
     "data": {
      "image/png": "[encoded data removed]",
      "text/plain": [
       "<Figure size 432x288 with 1 Axes>"
      ]
     },
     "metadata": {
      "needs_background": "light"
     },
     "output_type": "display_data"
    },
    {
     "data": {
      "text/plain": [
       "<Figure size 864x504 with 0 Axes>"
      ]
     },
     "metadata": {},
     "output_type": "display_data"
    }
   ],
   "source": [
    "outliers=arr[(arr<=lower) | (arr>=upper)]\n",
    "print(\"Outliers are: {}\".format(outliers))\n",
    "corr=arr[(arr>=lower) & (arr<=upper)]\n",
    "plt.boxplot(corr)\n",
    "fig=plt.figure(figsize=(12,7))\n",
    "plt.show()"
   ]
  },
  {
   "cell_type": "code",
   "execution_count": null,
   "metadata": {},
   "outputs": [],
   "source": []
  },
  {
   "cell_type": "code",
   "execution_count": null,
   "metadata": {},
   "outputs": [],
   "source": []
  },
  {
   "cell_type": "code",
   "execution_count": null,
   "metadata": {},
   "outputs": [],
   "source": []
  },
  {
   "cell_type": "code",
   "execution_count": null,
   "metadata": {},
   "outputs": [],
   "source": []
  }
 ],
 "metadata": {
  "colab": {
   "provenance": []
  },
  "kernelspec": {
   "display_name": "Python 3 (ipykernel)",
   "language": "python",
   "name": "python3"
  },
  "language_info": {
   "codemirror_mode": {
    "name": "ipython",
    "version": 3
   },
   "file_extension": ".py",
   "mimetype": "text/x-python",
   "name": "python",
   "nbconvert_exporter": "python",
   "pygments_lexer": "ipython3",
   "version": "3.9.5"
  }
 },
 "nbformat": 4,
 "nbformat_minor": 4
}
